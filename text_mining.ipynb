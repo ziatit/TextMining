{
 "cells": [
  {
   "cell_type": "code",
   "execution_count": null,
   "metadata": {},
   "outputs": [],
   "source": [
    "import json\n",
    "import string\n",
    "from nltk.corpus import PlaintextCorpusReader\n",
    "from nltk.tokenize import word_tokenize\n",
    "from nltk.util import ngrams\n",
    "import morfeusz2\n",
    "import itertools as it\n",
    "import operator as op\n",
    "import pandas as pd\n",
    "from sklearn.feature_extraction.text import CountVectorizer, TfidfVectorizer\n",
    "from wordcloud import WordCloud \n",
    "import matplotlib.pyplot as plt\n",
    "import os\n",
    "from sklearn.decomposition import LatentDirichletAllocation as LDA, NMF\n",
    "from sklearn.metrics.pairwise import cosine_similarity, euclidean_distances\n"
   ]
  },
  {
   "cell_type": "markdown",
   "metadata": {},
   "source": [
    "### Importy"
   ]
  },
  {
   "cell_type": "markdown",
   "metadata": {},
   "source": [
    "1. Utworzenie korpusu dokumentów"
   ]
  },
  {
   "cell_type": "code",
   "execution_count": null,
   "metadata": {},
   "outputs": [],
   "source": [
    "corpus_dir = \"./literature\" \n",
    "corpus = PlaintextCorpusReader(corpus_dir, \".*\\.txt\")\n",
    "files = corpus.fileids()\n",
    "files"
   ]
  },
  {
   "cell_type": "markdown",
   "metadata": {},
   "source": [
    "2.  Wstępne przetworzenie dokumentów"
   ]
  },
  {
   "cell_type": "code",
   "execution_count": null,
   "metadata": {},
   "outputs": [],
   "source": [
    "documents = {}\n",
    "for f in files:\n",
    "    documents[f] = corpus.raw(f)\n",
    "print(json.dumps(documents, indent=4, ensure_ascii=False))\n"
   ]
  },
  {
   "cell_type": "code",
   "execution_count": null,
   "metadata": {},
   "outputs": [],
   "source": [
    "stoplist_file = open('stopwords_pl.txt', 'r', encoding='UTF-8')\n",
    "stoplist = stoplist_file.read().splitlines()\n",
    "stoplist_file.close()\n",
    "stoplist = stoplist[4:]\n",
    "stoplist"
   ]
  },
  {
   "cell_type": "code",
   "execution_count": null,
   "metadata": {},
   "outputs": [],
   "source": [
    "def lemmatize(text):\n",
    "    morf = morfeusz2.Morfeusz()\n",
    "    segments = it.groupby(morf.analyse(text), op.itemgetter(0,1))\n",
    "\n",
    "    def disambiguate(group):\n",
    "        pairs = ((len(descr), lemma)\n",
    "                for _, _, (_, lemma, descr, _, _,) in group)\n",
    "        perpl, lemma = min(pairs)\n",
    "        return lemma.split(\":\")[0]\n",
    "    \n",
    "    lemmas = (disambiguate(group) for key, group in segments)\n",
    "    return \" \".join(filter(str.isalpha, lemmas))\n"
   ]
  },
  {
   "cell_type": "code",
   "execution_count": null,
   "metadata": {},
   "outputs": [],
   "source": [
    "for key in documents:\n",
    "    documents[key] = documents[key].lower()\n",
    "    documents[key] = \"\".join([char for char in documents[key] if char not in string.punctuation])\n",
    "    documents[key] = lemmatize(documents[key])\n",
    "    documents[key] = \" \".join([word for word in word_tokenize(documents[key], language='polish') if word not in stoplist])\n",
    "print(json.dumps(documents, indent=4, ensure_ascii=False))"
   ]
  },
  {
   "cell_type": "markdown",
   "metadata": {},
   "source": [
    "3. Utworzenie macierzy częstości"
   ]
  },
  {
   "cell_type": "code",
   "execution_count": null,
   "metadata": {},
   "outputs": [],
   "source": [
    "docs = pd.DataFrame.from_dict(documents, orient='index', columns=['content'])\n",
    "docs"
   ]
  },
  {
   "cell_type": "code",
   "execution_count": null,
   "metadata": {},
   "outputs": [],
   "source": [
    "count_vectorizer = CountVectorizer()\n",
    "count_tf = count_vectorizer.fit_transform(docs['content'])\n",
    "count_tf.toarray()"
   ]
  },
  {
   "cell_type": "code",
   "execution_count": null,
   "metadata": {},
   "outputs": [],
   "source": [
    "tfid_vectorizer = TfidfVectorizer()\n",
    "count_tfid = tfid_vectorizer.fit_transform(docs['content'])\n",
    "count_tfid.toarray()"
   ]
  },
  {
   "cell_type": "markdown",
   "metadata": {},
   "source": [
    "4. Chmury tagów"
   ]
  },
  {
   "cell_type": "code",
   "execution_count": null,
   "metadata": {},
   "outputs": [],
   "source": [
    "cloud = WordCloud(width=800, height=400, background_color='white', max_words=5000, contour_color='steelblue', contour_width=3).generate_from_frequencies(count_vectorizer.vocabulary_)\n",
    "if not os.path.exists('./wordclouds'):\n",
    "    os.makedirs('./wordclouds')\n",
    "for index, row in docs.iterrows():\n",
    "    cloud.generate(row['content'])\n",
    "    plt.axis(\"off\")\n",
    "    title = os.path.basename(index).replace('.txt', '')\n",
    "    plt.imshow(cloud)\n",
    "    plt.title(title)\n",
    "    plt.savefig(f'./wordclouds/{title}.png', bbox_inches='tight')"
   ]
  },
  {
   "cell_type": "markdown",
   "metadata": {},
   "source": [
    "5. Topic modelling"
   ]
  },
  {
   "cell_type": "code",
   "execution_count": null,
   "metadata": {},
   "outputs": [],
   "source": [
    "if not os.path.exists(\"./tematy\"):\n",
    "    os.mkdir(\"./tematy\")\n",
    "def plot_top_words(model, feature_names, n_top_words, title, subplots):\n",
    "    fig, axes = plt.subplots(*subplots, figsize=(30, 15), sharex=True)\n",
    "    axes = axes.flatten()\n",
    "    for topic_idx, topic in enumerate(model.components_):\n",
    "        top_features_ind = topic.argsort()[-n_top_words:]\n",
    "        top_features = feature_names[top_features_ind]\n",
    "        weights = topic[top_features_ind]\n",
    "\n",
    "        ax = axes[topic_idx]\n",
    "        ax.barh(top_features, weights, height=0.7)\n",
    "        ax.set_title(f\"Topic {topic_idx +1}\", fontdict={\"fontsize\": 30})\n",
    "        ax.tick_params(axis=\"both\", which=\"major\", labelsize=20)\n",
    "        for i in \"top right left\".split():\n",
    "            ax.spines[i].set_visible(False)\n",
    "        fig.suptitle(title, fontsize=40)\n",
    "\n",
    "    plt.subplots_adjust(top=0.90, bottom=0.05, wspace=0.90, hspace=0.3)\n",
    "    plt.savefig(f\"./tematy/{title}.png\")"
   ]
  },
  {
   "cell_type": "code",
   "execution_count": null,
   "metadata": {},
   "outputs": [],
   "source": [
    "def plot_documents(model, counts, files_names, n_components, title):\n",
    "  colors = ['forestgreen', 'lightskyblue', 'hotpink', 'turquoise', 'steelblue', 'crimson', 'seagreen', 'orange']\n",
    "  docs_topics = pd.DataFrame(model.transform(counts), columns=[f\"Topic {x}\" for x in range(n_components)])\n",
    "  docs_topics.index = [file_name.replace(\".txt\", \"\") for file_name in files_names]\n",
    "  plt.figure(figsize=(7,4))\n",
    "  left = [0] * len(docs_topics)\n",
    "  for i, col in enumerate(docs_topics.columns):\n",
    "    plt.barh(docs_topics.index, docs_topics[col], left=left, label=col, color = colors[i])\n",
    "    left = [left[j]+docs_topics[col].iloc[j] for j in range(len(docs_topics))]\n",
    "    plt.legend(loc='upper right', fontsize=12)\n",
    "  plt.savefig(f\"./tematy/{title}_docs.png\")\n",
    "  plt.close()"
   ]
  },
  {
   "cell_type": "code",
   "execution_count": null,
   "metadata": {},
   "outputs": [],
   "source": [
    "n_components = 6\n",
    "feature_names = count_vectorizer.get_feature_names_out()\n",
    "n_top_words = 20\n",
    "subplots = (2,3)"
   ]
  },
  {
   "cell_type": "code",
   "execution_count": null,
   "metadata": {},
   "outputs": [],
   "source": [
    "lda = LDA(n_components=n_components,  max_iter=5, learning_method='online', learning_offset=50, random_state=0)\n",
    "lda.fit(count_tf)\n",
    "plot_top_words(lda, feature_names, n_top_words, 'Tematy w modelu LDA', subplots)\n",
    "plot_documents(lda, count_tf, files, n_components, 'LDA')"
   ]
  },
  {
   "cell_type": "code",
   "execution_count": null,
   "metadata": {},
   "outputs": [],
   "source": [
    "nmf_fn = NMF(\n",
    "    n_components=n_components,\n",
    "    random_state=1,\n",
    "    alpha_H=.00005,\n",
    "    alpha_W=.00005,\n",
    "    l1_ratio=.5\n",
    ")\n",
    "nmf_fn.fit(count_tfid)\n",
    "plot_top_words(nmf_fn, feature_names, n_top_words, \"Tematy w modelu NMF (FN)\", subplots)\n",
    "plot_documents(nmf_fn, count_tf, files, n_components, 'NMF_FN')\n"
   ]
  },
  {
   "cell_type": "code",
   "execution_count": null,
   "metadata": {},
   "outputs": [],
   "source": [
    "nmf_kl = NMF(\n",
    "    n_components=n_components,\n",
    "    random_state=1,\n",
    "    beta_loss='kullback-leibler',\n",
    "    solver='mu',\n",
    "    max_iter=1000,\n",
    "    alpha_H=.00005,\n",
    "    alpha_W=.00005,\n",
    "    l1_ratio=.5\n",
    ")\n",
    "nmf_kl.fit(count_tfid)\n",
    "plot_top_words(nmf_kl, feature_names, n_top_words, \"Tematy w modelu NMF (KL)\", subplots)\n",
    "plot_documents(nmf_kl, count_tf, files, n_components, 'NMF_KL')\n",
    "\n"
   ]
  },
  {
   "cell_type": "markdown",
   "metadata": {},
   "source": [
    "6. Analiza skupień"
   ]
  },
  {
   "cell_type": "code",
   "execution_count": null,
   "metadata": {},
   "outputs": [],
   "source": [
    "import numpy as np\n",
    "from scipy.cluster.hierarchy import dendrogram\n",
    "\n",
    "from sklearn.cluster import AgglomerativeClustering\n",
    "\n",
    "\n",
    "def plot_dendrogram(model, **kwargs):\n",
    "    counts = np.zeros(model.children_.shape[0])\n",
    "    n_samples = len(model.labels_)\n",
    "    for i, merge in enumerate(model.children_):\n",
    "        current_count = 0\n",
    "        for child_idx in merge:\n",
    "            if child_idx < n_samples:\n",
    "                current_count += 1\n",
    "            else:\n",
    "                current_count += counts[child_idx - n_samples]\n",
    "        counts[i] = current_count\n",
    "\n",
    "    linkage_matrix = np.column_stack(\n",
    "        [model.children_, model.distances_, counts]\n",
    "    ).astype(float)\n",
    "\n",
    "    dendrogram(linkage_matrix, **kwargs)"
   ]
  },
  {
   "cell_type": "code",
   "execution_count": null,
   "metadata": {},
   "outputs": [],
   "source": [
    "cs = cosine_similarity(count_tfid, count_tfid).flatten().reshape(20,20)\n",
    "cs"
   ]
  },
  {
   "cell_type": "code",
   "execution_count": null,
   "metadata": {},
   "outputs": [],
   "source": [
    "clustering = AgglomerativeClustering(\n",
    "    n_clusters=6, metric='euclidean', linkage='ward', compute_distances=True\n",
    ").fit(cs)\n",
    "clustering.labels_"
   ]
  },
  {
   "cell_type": "code",
   "execution_count": null,
   "metadata": {},
   "outputs": [],
   "source": [
    "plot_dendrogram(clustering, labels=files, leaf_rotation=90, leaf_font_size=12)"
   ]
  },
  {
   "cell_type": "code",
   "execution_count": null,
   "metadata": {},
   "outputs": [],
   "source": [
    "ed = euclidean_distances(count_tf, count_tf).flatten().reshape(20,20)\n",
    "ed"
   ]
  },
  {
   "cell_type": "code",
   "execution_count": null,
   "metadata": {},
   "outputs": [],
   "source": [
    "clustering_e = AgglomerativeClustering(\n",
    "    n_clusters=6, metric='precomputed', linkage='complete', compute_distances=True\n",
    ").fit(ed)\n",
    "clustering_e.labels_"
   ]
  },
  {
   "cell_type": "code",
   "execution_count": null,
   "metadata": {},
   "outputs": [],
   "source": [
    "plot_dendrogram(clustering_e, labels=files, leaf_rotation=90, leaf_font_size=12)"
   ]
  },
  {
   "cell_type": "markdown",
   "metadata": {},
   "source": [
    "7. N-gramy"
   ]
  },
  {
   "cell_type": "code",
   "execution_count": null,
   "metadata": {},
   "outputs": [],
   "source": [
    "documents_tokenized = {}\n",
    "for key in documents:\n",
    "    documents_tokenized[key] = word_tokenize(documents[key], language='polish')\n",
    "print(json.dumps(documents_tokenized, indent=4, ensure_ascii=False))"
   ]
  },
  {
   "cell_type": "code",
   "execution_count": null,
   "metadata": {},
   "outputs": [],
   "source": [
    "for title in documents_tokenized:\n",
    "    n_gram = pd.Series(ngrams(documents_tokenized[title], n_count)).value_counts()\n",
    "    plt.figure(figsize=(10, 6))\n",
    "    n_gram[:5].plot.barh()\n",
    "    save_path = os.path.join(ngram_dir, title.replace('.txt', '.png'))\n",
    "    os.makedirs(os.path.dirname(save_path), exist_ok=True)\n",
    "    plt.tight_layout()\n",
    "    plt.savefig(save_path)\n",
    "    plt.close()"
   ]
  },
  {
   "cell_type": "code",
   "execution_count": null,
   "metadata": {},
   "outputs": [],
   "source": [
    "texts = \" \".join(docs['content']).split(\" \")\n",
    "n_gram = pd.Series(ngrams(texts, 3)).value_counts()\n",
    "n_gram[:15].plot.barh()\n",
    "plt.gcf().subplots_adjust(left=0.4)\n",
    "plt.savefig(\"./ngramy/all.png\")\n",
    "plt.close()"
   ]
  }
 ],
 "metadata": {
  "kernelspec": {
   "display_name": "NLP",
   "language": "python",
   "name": "python3"
  },
  "language_info": {
   "codemirror_mode": {
    "name": "ipython",
    "version": 3
   },
   "file_extension": ".py",
   "mimetype": "text/x-python",
   "name": "python",
   "nbconvert_exporter": "python",
   "pygments_lexer": "ipython3",
   "version": "3.11.11"
  }
 },
 "nbformat": 4,
 "nbformat_minor": 2
}
